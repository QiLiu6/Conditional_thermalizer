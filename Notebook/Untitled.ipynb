{
 "cells": [
  {
   "cell_type": "code",
   "execution_count": 1,
   "id": "46ae6815-6c69-42de-93df-9122af44bd23",
   "metadata": {},
   "outputs": [
    {
     "ename": "AttributeError",
     "evalue": "module 'Models.diffusion' has no attribute 'Diffusion_regression'",
     "output_type": "error",
     "traceback": [
      "\u001b[31m---------------------------------------------------------------------------\u001b[39m",
      "\u001b[31mAttributeError\u001b[39m                            Traceback (most recent call last)",
      "\u001b[36mCell\u001b[39m\u001b[36m \u001b[39m\u001b[32mIn[1]\u001b[39m\u001b[32m, line 7\u001b[39m\n\u001b[32m      4\u001b[39m Emu_file_path = \u001b[33m'\u001b[39m\u001b[33m/scratch/ql2221/thermalizer_data/wandb_data/wandb/run-20250526_223850-r12kgbg1/files/checkpoint_best.p\u001b[39m\u001b[33m'\u001b[39m\n\u001b[32m      5\u001b[39m CT_file_path = \u001b[33m'\u001b[39m\u001b[33m/scratch/ql2221/thermalizer_data/wandb_data/wandb/run-20250715_210115-naiteaau/files/checkpoint_last.p\u001b[39m\u001b[33m'\u001b[39m\n\u001b[32m----> \u001b[39m\u001b[32m7\u001b[39m CT = \u001b[43mmisc\u001b[49m\u001b[43m.\u001b[49m\u001b[43mload_diffusion_model\u001b[49m\u001b[43m(\u001b[49m\u001b[43mCT_file_path\u001b[49m\u001b[43m)\u001b[49m\n",
      "\u001b[36mFile \u001b[39m\u001b[32m/ext3/miniforge3/lib/python3.12/site-packages/Models/misc.py:95\u001b[39m, in \u001b[36mload_diffusion_model\u001b[39m\u001b[34m(file_string)\u001b[39m\n\u001b[32m     93\u001b[39m     model_cnn=Unet.ModernUnetRegressor(model_dict[\u001b[33m\"\u001b[39m\u001b[33mconfig\u001b[39m\u001b[33m\"\u001b[39m])\n\u001b[32m     94\u001b[39m     model_cnn.load_state_dict(model_dict[\u001b[33m\"\u001b[39m\u001b[33mstate_dict\u001b[39m\u001b[33m\"\u001b[39m])\n\u001b[32m---> \u001b[39m\u001b[32m95\u001b[39m     diffusion_model=\u001b[43mdiffusion\u001b[49m\u001b[43m.\u001b[49m\u001b[43mDiffusion_regression\u001b[49m(model_dict[\u001b[33m\"\u001b[39m\u001b[33mconfig\u001b[39m\u001b[33m\"\u001b[39m], model=model_cnn)\n\u001b[32m     97\u001b[39m \u001b[38;5;28;01mreturn\u001b[39;00m diffusion_model\n",
      "\u001b[31mAttributeError\u001b[39m: module 'Models.diffusion' has no attribute 'Diffusion_regression'"
     ]
    }
   ],
   "source": [
    "import torch\n",
    "import Models.misc as misc\n",
    "\n",
    "Emu_file_path = '/scratch/ql2221/thermalizer_data/wandb_data/wandb/run-20250526_223850-r12kgbg1/files/checkpoint_best.p'\n",
    "CT_file_path = '/scratch/ql2221/thermalizer_data/wandb_data/wandb/run-20250715_210115-naiteaau/files/checkpoint_last.p'\n",
    "\n",
    "CT = misc.load_diffusion_model(CT_file_path)\n"
   ]
  },
  {
   "cell_type": "code",
   "execution_count": null,
   "id": "9642465a-2e28-4d27-a1d4-39bc2bff30e7",
   "metadata": {},
   "outputs": [],
   "source": []
  }
 ],
 "metadata": {
  "kernelspec": {
   "display_name": "torch_sing",
   "language": "python",
   "name": "torch_sing"
  },
  "language_info": {
   "codemirror_mode": {
    "name": "ipython",
    "version": 3
   },
   "file_extension": ".py",
   "mimetype": "text/x-python",
   "name": "python",
   "nbconvert_exporter": "python",
   "pygments_lexer": "ipython3",
   "version": "3.12.10"
  }
 },
 "nbformat": 4,
 "nbformat_minor": 5
}
