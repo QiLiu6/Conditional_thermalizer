{
 "cells": [
  {
   "cell_type": "code",
   "execution_count": 1,
   "id": "46ae6815-6c69-42de-93df-9122af44bd23",
   "metadata": {},
   "outputs": [],
   "source": [
    "import torch\n",
    "import Models.misc as misc\n",
    "import Inference.Kolmogorov.performance as performance\n",
    "from tqdm import tqdm\n",
    "device = torch.device(\"cuda\" if torch.cuda.is_available() else \"cpu\")\n",
    "Emu_file_path = '/scratch/ql2221/thermalizer_data/wandb_data/wandb/run-20250526_223850-r12kgbg1/files/checkpoint_best.p'\n",
    "CT_file_path = '/scratch/ql2221/thermalizer_data/wandb_data/wandb/run-20250715_210115-naiteaau/files/checkpoint_last.p'\n",
    "\n",
    "CT = misc.load_diffusion_model(CT_file_path).to(device)\n",
    "Emu = misc.load_model(Emu_file_path).to(device)"
   ]
  },
  {
   "cell_type": "code",
   "execution_count": 2,
   "id": "9642465a-2e28-4d27-a1d4-39bc2bff30e7",
   "metadata": {},
   "outputs": [],
   "source": [
    "data_dict = torch.load(\"/scratch/ql2221/thermalizer_data/kolmogorov/reynold10k/test_long.p\")"
   ]
  },
  {
   "cell_type": "code",
   "execution_count": 3,
   "id": "fa0cc2bd-8ed5-4c56-8856-bc67d2b17bbf",
   "metadata": {},
   "outputs": [
    {
     "name": "stdout",
     "output_type": "stream",
     "text": [
      "torch.Size([5, 70000, 64, 64])\n",
      "torch.Size([1, 70000, 64, 64])\n"
     ]
    }
   ],
   "source": [
    "data = data_dict[\"data\"]\n",
    "print(data.shape)\n",
    "x = data[0,:,:,:]\n",
    "x = x.unsqueeze(0).to(device)\n",
    "print(x.shape)\n",
    "x = x/4.44"
   ]
  },
  {
   "cell_type": "code",
   "execution_count": 4,
   "id": "e132cd6d-5353-41a1-a60e-fb8708e957a0",
   "metadata": {},
   "outputs": [
    {
     "ename": "RuntimeError",
     "evalue": "Expected all tensors to be on the same device, but found at least two devices, cuda:0 and cpu!",
     "output_type": "error",
     "traceback": [
      "\u001b[31m---------------------------------------------------------------------------\u001b[39m",
      "\u001b[31mRuntimeError\u001b[39m                              Traceback (most recent call last)",
      "\u001b[36mCell\u001b[39m\u001b[36m \u001b[39m\u001b[32mIn[4]\u001b[39m\u001b[32m, line 2\u001b[39m\n\u001b[32m      1\u001b[39m delta = torch.tensor([\u001b[32m1\u001b[39m]).to(device)\n\u001b[32m----> \u001b[39m\u001b[32m2\u001b[39m rollout, _ = \u001b[43mperformance\u001b[49m\u001b[43m.\u001b[49m\u001b[43mrun_conditional_emu\u001b[49m\u001b[43m(\u001b[49m\u001b[43mx\u001b[49m\u001b[43m[\u001b[49m\u001b[43m:\u001b[49m\u001b[43m,\u001b[49m\u001b[32;43m0\u001b[39;49m\u001b[43m:\u001b[49m\u001b[32;43m1\u001b[39;49m\u001b[43m]\u001b[49m\u001b[43m,\u001b[49m\u001b[43m \u001b[49m\u001b[43mEmu\u001b[49m\u001b[43m,\u001b[49m\u001b[43m \u001b[49m\u001b[43mCT\u001b[49m\u001b[43m,\u001b[49m\u001b[43m \u001b[49m\u001b[43mn_steps\u001b[49m\u001b[43m=\u001b[49m\u001b[32;43m1000\u001b[39;49m\u001b[43m,\u001b[49m\u001b[43m \u001b[49m\u001b[43mdelta\u001b[49m\u001b[43m \u001b[49m\u001b[43m=\u001b[49m\u001b[43m \u001b[49m\u001b[43mdelta\u001b[49m\u001b[43m,\u001b[49m\u001b[43m \u001b[49m\u001b[43mdenoising_steps\u001b[49m\u001b[43m=\u001b[49m\u001b[32;43m5\u001b[39;49m\u001b[43m,\u001b[49m\u001b[43m \u001b[49m\u001b[43mfreq\u001b[49m\u001b[43m \u001b[49m\u001b[43m=\u001b[49m\u001b[43m \u001b[49m\u001b[32;43m25\u001b[39;49m\u001b[43m,\u001b[49m\u001b[43m \u001b[49m\u001b[43msilent\u001b[49m\u001b[43m=\u001b[49m\u001b[38;5;28;43;01mTrue\u001b[39;49;00m\u001b[43m,\u001b[49m\u001b[43m \u001b[49m\u001b[43msigma\u001b[49m\u001b[43m=\u001b[49m\u001b[38;5;28;43;01mNone\u001b[39;49;00m\u001b[43m,\u001b[49m\u001b[43m \u001b[49m\u001b[43mRegression\u001b[49m\u001b[43m \u001b[49m\u001b[43m=\u001b[49m\u001b[43m \u001b[49m\u001b[38;5;28;43;01mTrue\u001b[39;49;00m\u001b[43m)\u001b[49m\n",
      "\u001b[36mFile \u001b[39m\u001b[32m/ext3/miniforge3/lib/python3.12/site-packages/Inference/Kolmogorov/performance.py:51\u001b[39m, in \u001b[36mrun_conditional_emu\u001b[39m\u001b[34m(ics, emu, therm, n_steps, delta, denoising_steps, freq, silent, sigma, Regression)\u001b[39m\n\u001b[32m     49\u001b[39m                 pred_noise, _ = therm.model(noised_plus_conditional,delta,\u001b[38;5;28;01mTrue\u001b[39;00m)\n\u001b[32m     50\u001b[39m                 pred_noise_level = therm.model.noise_class(noised_plus_conditional,delta)\n\u001b[32m---> \u001b[39m\u001b[32m51\u001b[39m                 state_vector[:,aa]=\u001b[43mtherm\u001b[49m\u001b[43m.\u001b[49m\u001b[43mdenoising\u001b[49m\u001b[43m(\u001b[49m\u001b[43mnoised_plus_conditional\u001b[49m\u001b[43m,\u001b[49m\u001b[43m \u001b[49m\u001b[43mdelta\u001b[49m\u001b[43m,\u001b[49m\u001b[43m \u001b[49m\u001b[43mpred_noise_level\u001b[49m\u001b[43m)\u001b[49m.squeeze()\n\u001b[32m     52\u001b[39m     enstrophies=(\u001b[38;5;28mabs\u001b[39m(state_vector**\u001b[32m2\u001b[39m).sum(axis=(\u001b[32m2\u001b[39m,\u001b[32m3\u001b[39m)))\n\u001b[32m     54\u001b[39m \u001b[38;5;28;01melse\u001b[39;00m:\n",
      "\u001b[36mFile \u001b[39m\u001b[32m/ext3/miniforge3/lib/python3.12/site-packages/torch/utils/_contextlib.py:116\u001b[39m, in \u001b[36mcontext_decorator.<locals>.decorate_context\u001b[39m\u001b[34m(*args, **kwargs)\u001b[39m\n\u001b[32m    113\u001b[39m \u001b[38;5;129m@functools\u001b[39m.wraps(func)\n\u001b[32m    114\u001b[39m \u001b[38;5;28;01mdef\u001b[39;00m\u001b[38;5;250m \u001b[39m\u001b[34mdecorate_context\u001b[39m(*args, **kwargs):\n\u001b[32m    115\u001b[39m     \u001b[38;5;28;01mwith\u001b[39;00m ctx_factory():\n\u001b[32m--> \u001b[39m\u001b[32m116\u001b[39m         \u001b[38;5;28;01mreturn\u001b[39;00m \u001b[43mfunc\u001b[49m\u001b[43m(\u001b[49m\u001b[43m*\u001b[49m\u001b[43margs\u001b[49m\u001b[43m,\u001b[49m\u001b[43m \u001b[49m\u001b[43m*\u001b[49m\u001b[43m*\u001b[49m\u001b[43mkwargs\u001b[49m\u001b[43m)\u001b[49m\n",
      "\u001b[36mFile \u001b[39m\u001b[32m/ext3/miniforge3/lib/python3.12/site-packages/Models/diffusion_regression.py:123\u001b[39m, in \u001b[36mDiffusion_regression.denoising\u001b[39m\u001b[34m(self, x, delta, denoising_timestep, device)\u001b[39m\n\u001b[32m    117\u001b[39m \u001b[38;5;250m\u001b[39m\u001b[33;03m\"\"\" Pass validation samples, x, and some denoising timestep.\u001b[39;00m\n\u001b[32m    118\u001b[39m \u001b[33;03m    Add noise using forward diffusion, denoise these samples and return\u001b[39;00m\n\u001b[32m    119\u001b[39m \u001b[33;03m    both the forward diffused and denoised images, after dewhitening if\u001b[39;00m\n\u001b[32m    120\u001b[39m \u001b[33;03m    we are doing whitening \"\"\"\u001b[39;00m\n\u001b[32m    122\u001b[39m \u001b[38;5;66;03m## Noise timestep\u001b[39;00m\n\u001b[32m--> \u001b[39m\u001b[32m123\u001b[39m t=(\u001b[43mtorch\u001b[49m\u001b[43m.\u001b[49m\u001b[43mones\u001b[49m\u001b[43m(\u001b[49m\u001b[38;5;28;43mlen\u001b[39;49m\u001b[43m(\u001b[49m\u001b[43mx\u001b[49m\u001b[43m)\u001b[49m\u001b[43m,\u001b[49m\u001b[43mdtype\u001b[49m\u001b[43m=\u001b[49m\u001b[43mtorch\u001b[49m\u001b[43m.\u001b[49m\u001b[43mint64\u001b[49m\u001b[43m)\u001b[49m\u001b[43m*\u001b[49m\u001b[43mdenoising_timestep\u001b[49m).to(device)\n\u001b[32m    124\u001b[39m noise=torch.randn_like(x[:,-\u001b[32m1\u001b[39m:]).to(device)\n\u001b[32m    125\u001b[39m x_t = x[:,\u001b[32m0\u001b[39m:\u001b[32m1\u001b[39m]\n",
      "\u001b[31mRuntimeError\u001b[39m: Expected all tensors to be on the same device, but found at least two devices, cuda:0 and cpu!"
     ]
    }
   ],
   "source": [
    "delta = torch.tensor([1]).to(device)\n",
    "rollout, _ = performance.run_conditional_emu(x[:,0:1], Emu, CT, n_steps=1000, delta = delta, denoising_steps=5, freq = 25, silent=True, sigma=None, Regression = True)"
   ]
  },
  {
   "cell_type": "code",
   "execution_count": null,
   "id": "92c815d2-e346-40ab-a7ff-cfb313f0b087",
   "metadata": {},
   "outputs": [],
   "source": []
  }
 ],
 "metadata": {
  "kernelspec": {
   "display_name": "torch_sing",
   "language": "python",
   "name": "torch_sing"
  },
  "language_info": {
   "codemirror_mode": {
    "name": "ipython",
    "version": 3
   },
   "file_extension": ".py",
   "mimetype": "text/x-python",
   "name": "python",
   "nbconvert_exporter": "python",
   "pygments_lexer": "ipython3",
   "version": "3.12.10"
  }
 },
 "nbformat": 4,
 "nbformat_minor": 5
}
