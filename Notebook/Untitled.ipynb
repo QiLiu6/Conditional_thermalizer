{
 "cells": [
  {
   "cell_type": "code",
   "execution_count": null,
   "id": "46ae6815-6c69-42de-93df-9122af44bd23",
   "metadata": {},
   "outputs": [],
   "source": [
    "import torch\n",
    "import Models.misc as misc\n",
    "import Inference.Kolmogorov.performance as performance\n",
    "from tqdm import tqdm\n",
    "device = torch.device(\"cuda\" if torch.cuda.is_available() else \"cpu\")\n",
    "Emu_file_path = '/scratch/ql2221/thermalizer_data/wandb_data/wandb/run-20250526_223850-r12kgbg1/files/checkpoint_best.p'\n",
    "CT_file_path = '/scratch/ql2221/thermalizer_data/wandb_data/wandb/run-20250715_210115-naiteaau/files/checkpoint_last.p'\n",
    "\n",
    "CT = misc.load_diffusion_model(CT_file_path).to(device)\n",
    "Emu = misc.load_model(Emu_file_path).to(device)"
   ]
  },
  {
   "cell_type": "code",
   "execution_count": null,
   "id": "9642465a-2e28-4d27-a1d4-39bc2bff30e7",
   "metadata": {},
   "outputs": [],
   "source": [
    "data_dict = torch.load(\"/scratch/ql2221/thermalizer_data/kolmogorov/reynold10k/test_long.p\")"
   ]
  },
  {
   "cell_type": "code",
   "execution_count": null,
   "id": "fa0cc2bd-8ed5-4c56-8856-bc67d2b17bbf",
   "metadata": {},
   "outputs": [],
   "source": [
    "data = data_dict[\"data\"]\n",
    "print(data.shape)\n",
    "x = data[0,:,:,:]\n",
    "x = x.unsqueeze(0).to(device)\n",
    "print(x.shape)\n",
    "x = x/4.44"
   ]
  },
  {
   "cell_type": "code",
   "execution_count": null,
   "id": "e132cd6d-5353-41a1-a60e-fb8708e957a0",
   "metadata": {},
   "outputs": [],
   "source": [
    "delta = torch.tensor([1]).to(device)\n",
    "rollout, _ = performance.run_conditional_emu(x[:,0:1], Emu, CT, n_steps=1000, delta = delta, denoising_steps=5, freq = 25, silent=True, sigma=None, Regression = True)"
   ]
  },
  {
   "cell_type": "code",
   "execution_count": null,
   "id": "92c815d2-e346-40ab-a7ff-cfb313f0b087",
   "metadata": {},
   "outputs": [],
   "source": []
  }
 ],
 "metadata": {
  "kernelspec": {
   "display_name": "torch_sing",
   "language": "python",
   "name": "torch_sing"
  },
  "language_info": {
   "codemirror_mode": {
    "name": "ipython",
    "version": 3
   },
   "file_extension": ".py",
   "mimetype": "text/x-python",
   "name": "python",
   "nbconvert_exporter": "python",
   "pygments_lexer": "ipython3",
   "version": "3.12.10"
  }
 },
 "nbformat": 4,
 "nbformat_minor": 5
}
