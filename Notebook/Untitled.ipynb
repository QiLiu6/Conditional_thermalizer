{
 "cells": [
  {
   "cell_type": "code",
   "execution_count": 1,
   "id": "46ae6815-6c69-42de-93df-9122af44bd23",
   "metadata": {},
   "outputs": [],
   "source": [
    "import torch\n",
    "import Models.misc as misc\n",
    "\n",
    "Emu_file_path = '/scratch/ql2221/thermalizer_data/wandb_data/wandb/run-20250526_223850-r12kgbg1/files/checkpoint_best.p'\n",
    "CT_file_path = '/scratch/ql2221/thermalizer_data/wandb_data/wandb/run-20250715_210115-naiteaau/files/checkpoint_last.p'\n",
    "\n",
    "CT = misc.load_diffusion_model(CT_file_path)\n",
    "Emu = misc.load"
   ]
  },
  {
   "cell_type": "code",
   "execution_count": null,
   "id": "9642465a-2e28-4d27-a1d4-39bc2bff30e7",
   "metadata": {},
   "outputs": [],
   "source": []
  }
 ],
 "metadata": {
  "kernelspec": {
   "display_name": "torch_sing",
   "language": "python",
   "name": "torch_sing"
  },
  "language_info": {
   "codemirror_mode": {
    "name": "ipython",
    "version": 3
   },
   "file_extension": ".py",
   "mimetype": "text/x-python",
   "name": "python",
   "nbconvert_exporter": "python",
   "pygments_lexer": "ipython3",
   "version": "3.12.10"
  }
 },
 "nbformat": 4,
 "nbformat_minor": 5
}
