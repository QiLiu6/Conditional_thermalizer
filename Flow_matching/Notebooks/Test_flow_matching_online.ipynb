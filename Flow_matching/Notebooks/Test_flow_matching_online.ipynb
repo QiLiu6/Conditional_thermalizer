{
 "cells": [
  {
   "cell_type": "code",
   "execution_count": 1,
   "id": "31a9b156-9e29-4281-8e3d-0179adc7d098",
   "metadata": {},
   "outputs": [],
   "source": [
    "import torch\n",
    "import pickle\n",
    "\n",
    "import sys\n",
    "sys.path.append('/home/ql2221/Projects/thermalizer/thermalizer/models')\n",
    "import unet_modern as munet\n",
    "sys.path.remove('/home/ql2221/Projects/thermalizer/thermalizer/models')\n",
    "\n",
    "sys.path.append('/home/ql2221/Projects/Joan_Bruna_work/UUnet/Models')\n",
    "import Unet as Unet"
   ]
  },
  {
   "cell_type": "code",
   "execution_count": 2,
   "id": "0cedcd40-9763-4b9c-a971-486ef059d8ad",
   "metadata": {},
   "outputs": [
    {
     "data": {
      "text/plain": [
       "<All keys matched successfully>"
      ]
     },
     "execution_count": 2,
     "metadata": {},
     "output_type": "execute_result"
    }
   ],
   "source": [
    "#get the emulator\n",
    "device = torch.device(\"cuda\" if torch.cuda.is_available() else \"cpu\")\n",
    "\n",
    "file_string = '/scratch/ql2221/thermalizer_data/wandb_data/wandb/run-20250526_223850-r12kgbg1/files/checkpoint_best.p'\n",
    "with open(file_string, 'rb') as f:\n",
    "    emulator_checkpoint = pickle.load(f)\n",
    "\n",
    "# Extract the configuration (this might include hyperparameters, model architecture details, etc.)\n",
    "emulator_config = emulator_checkpoint['config']\n",
    "\n",
    "if emulator_config[\"model_type\"]==\"ModernUnet\":\n",
    "    emulator = munet.ModernUnet(emulator_config).to(device)\n",
    "\n",
    "emulator.load_state_dict(emulator_checkpoint[\"state_dict\"])"
   ]
  },
  {
   "cell_type": "code",
   "execution_count": 3,
   "id": "2dff4467-3e1c-498a-a07a-1496b530dfe5",
   "metadata": {},
   "outputs": [
    {
     "data": {
      "text/plain": [
       "<All keys matched successfully>"
      ]
     },
     "execution_count": 3,
     "metadata": {},
     "output_type": "execute_result"
    }
   ],
   "source": [
    "checkpoint_string = \"/scratch/ql2221/thermalizer_data/wandb_data/wandb/run-20250619_023225-xmbfc9iy/files/checkpoint_last.p\"\n",
    "with open(checkpoint_string, 'rb') as f:\n",
    "    flow_matching_checkpoint = pickle.load(f)\n",
    "\n",
    "flow_matching_config = flow_matching_checkpoint['config']\n",
    "\n",
    "if flow_matching_config[\"model_type\"]==\"ModernUnet\":\n",
    "    flow_matching = Unet.ModernUnet(flow_matching_config).to(device)\n",
    "\n",
    "flow_matching.load_state_dict(flow_matching_checkpoint[\"state_dict\"])"
   ]
  },
  {
   "cell_type": "code",
   "execution_count": 4,
   "id": "113ecb4e-e75a-49d7-afbf-118391fc299f",
   "metadata": {},
   "outputs": [],
   "source": [
    "#generate an emulator rollout, and denoise every step using flow matching\n",
    "sys.path.append('/home/ql2221/Projects/Joan_Bruna_work/Flow_matching/Inference')\n",
    "import Roll_out_with_flow_matching as Flow"
   ]
  },
  {
   "cell_type": "code",
   "execution_count": 5,
   "id": "f1a8698f-0695-43a6-8a6d-526a1f4e14ec",
   "metadata": {},
   "outputs": [
    {
     "name": "stdout",
     "output_type": "stream",
     "text": [
      "torch.Size([1, 90000, 64, 64])\n"
     ]
    }
   ],
   "source": [
    "#load data\n",
    "loaded_data = torch.load(\"/scratch/ql2221/thermalizer_data/kolmogorov/reynold10k/test_long.p\")\n",
    "data = loaded_data[\"data\"]\n",
    "\n",
    "x = data[0,:,:,:]\n",
    "x = x.unsqueeze(0).to(device)\n",
    "print(x.shape)\n",
    "x = x/4.44"
   ]
  },
  {
   "cell_type": "code",
   "execution_count": 6,
   "id": "987146c0-04ea-49b1-b398-2690bbbbf35e",
   "metadata": {},
   "outputs": [],
   "source": [
    "rollout = Flow.run_flow_matching_emu(x[:,0:1], emulator, flow_matching, 1000)"
   ]
  },
  {
   "cell_type": "code",
   "execution_count": 7,
   "id": "4ba083aa-dae5-4c8f-9558-879d6f8b4a34",
   "metadata": {},
   "outputs": [],
   "source": [
    "import matplotlib.pyplot as plt\n",
    "from matplotlib import animation\n",
    "def make_movie(state_vector, save_path=\"emulator_movie.mp4\", fps=30, vmin=None, vmax=None, stride=10):\n",
    "    \"\"\"\n",
    "    Create a movie from a 4D tensor of shape (batch, time, height, width), using only every `stride`-th frame.\n",
    "    \n",
    "    Parameters:\n",
    "    - state_vector: torch.Tensor of shape (B, T, H, W)\n",
    "    - save_path: output video file path\n",
    "    - fps: frames per second for the movie\n",
    "    - vmin, vmax: color scale\n",
    "    - stride: only include every `stride`th frame in the video\n",
    "    \"\"\"\n",
    "    B, T, H, W = state_vector.shape\n",
    "    data = state_vector[0].cpu().numpy()\n",
    "\n",
    "    fig, ax = plt.subplots()\n",
    "    im = ax.imshow(data[0], cmap=\"viridis\", vmin=vmin, vmax=vmax)\n",
    "    ax.set_title(\"Timestep 0\")\n",
    "    fig.colorbar(im, ax=ax)\n",
    "\n",
    "    # Frame indices to use\n",
    "    frame_indices = list(range(0, T, stride))\n",
    "\n",
    "    def update(frame_idx):\n",
    "        frame = frame_indices[frame_idx]\n",
    "        im.set_data(data[frame])\n",
    "        ax.set_title(f\"Timestep {frame}\")\n",
    "        return im,\n",
    "\n",
    "    ani = animation.FuncAnimation(fig, update, frames=len(frame_indices), blit=False, repeat=False)\n",
    "    ani.save(save_path, fps=fps)\n",
    "    plt.close(fig)\n",
    "    print(\"movie saved\")"
   ]
  },
  {
   "cell_type": "code",
   "execution_count": 8,
   "id": "fb226250-4ed7-4587-8057-2f4e96941f63",
   "metadata": {},
   "outputs": [
    {
     "name": "stdout",
     "output_type": "stream",
     "text": [
      "movie saved\n"
     ]
    }
   ],
   "source": [
    "rollout = rollout[0]\n",
    "make_movie(rollout, save_path=\"rollout.mp4\", fps=30)"
   ]
  },
  {
   "cell_type": "code",
   "execution_count": null,
   "id": "bcc3cf1a-b166-4c57-816a-919a3ff625cd",
   "metadata": {},
   "outputs": [],
   "source": []
  }
 ],
 "metadata": {
  "kernelspec": {
   "display_name": "my_env",
   "language": "python",
   "name": "my_env"
  },
  "language_info": {
   "codemirror_mode": {
    "name": "ipython",
    "version": 3
   },
   "file_extension": ".py",
   "mimetype": "text/x-python",
   "name": "python",
   "nbconvert_exporter": "python",
   "pygments_lexer": "ipython3",
   "version": "3.12.8"
  }
 },
 "nbformat": 4,
 "nbformat_minor": 5
}
